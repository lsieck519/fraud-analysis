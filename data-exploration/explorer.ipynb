{
 "cells": [
  {
   "cell_type": "markdown",
   "metadata": {},
   "source": [
    "## Data Exploration\n",
    "\n",
    "In this notebook, we will use Python to better understand the data available. The results will also be compared to SQL query results for validation. "
   ]
  },
  {
   "cell_type": "code",
   "execution_count": null,
   "metadata": {},
   "outputs": [],
   "source": [
    "import pandas as pd\n",
    "import seaborn as sns\n",
    "import matplotlib.pyplot as plt"
   ]
  },
  {
   "cell_type": "code",
   "execution_count": null,
   "metadata": {},
   "outputs": [],
   "source": [
    "# Define the path to the data based on input type\n",
    "def set_csv(input_type):\n",
    "    valid_types = {\n",
    "        \"data-set-1\": \"../raw-data/fraud-data-1.csv\",\n",
    "        \"data-set-2\": \"../raw-data/fraud-data-2.csv\",\n",
    "    }\n",
    "    \n",
    "    if input_type not in valid_types:\n",
    "        raise ValueError(f\"Invalid type '{input_type}'. Expected one of {list(valid_types.keys())}\")\n",
    "    \n",
    "    return valid_types[input_type]"
   ]
  },
  {
   "cell_type": "code",
   "execution_count": null,
   "metadata": {},
   "outputs": [],
   "source": [
    "# DO THIS: Change csv_name input to data-set-1 or data-set-2\n",
    "try:\n",
    "    csv_name = \"data-set-1\" \n",
    "    df = pd.read_csv(set_csv(csv_name))\n",
    "    # confirm the file we're looking at\n",
    "    print(f\"Successfully read {csv_name.upper()} CSV file. Continuing with analysis...\")\n",
    "except ValueError as e:\n",
    "    print(e)"
   ]
  },
  {
   "cell_type": "code",
   "execution_count": null,
   "metadata": {},
   "outputs": [],
   "source": [
    "# Show summary of the dataframe\n",
    "df.info()"
   ]
  },
  {
   "cell_type": "code",
   "execution_count": null,
   "metadata": {},
   "outputs": [],
   "source": [
    "# display the first 10 rows of the dataframe\n",
    "df.head(10)"
   ]
  },
  {
   "cell_type": "code",
   "execution_count": null,
   "metadata": {},
   "outputs": [],
   "source": [
    "# Find how many unique values are in each column\n",
    "df.nunique()"
   ]
  },
  {
   "cell_type": "code",
   "execution_count": null,
   "metadata": {},
   "outputs": [],
   "source": [
    "# Standardize column names\n",
    "df.columns = df.columns.str.strip().str.lower().str.replace(' ', '_')\n",
    "\n",
    "# Convert dates\n",
    "df['order_date'] = pd.to_datetime(df['order_date'])"
   ]
  },
  {
   "cell_type": "code",
   "execution_count": null,
   "metadata": {},
   "outputs": [],
   "source": [
    "if csv_name == \"data-set-1\":\n",
    "    # Flag false positives (flagged as fraud but approved with no chargeback)\n",
    "    df['false_positive'] = ((df['flagged_as_fraud'] == 'Yes') &\n",
    "                            (df['result'] == 'Approved') &\n",
    "                            (df['chargeback_(yes/no)'] == 'No'))\n",
    "\n",
    "    # Flag false negatives (not flagged as fraud but resulted in chargeback)\n",
    "    df['false_negative'] = ((df['flagged_as_fraud'] == 'No') &\n",
    "                            (df['chargeback_(yes/no)'] == 'Yes'))\n",
    "\n",
    "    print(\"False Positives:\", df['false_positive'].sum())\n",
    "    print(\"False Negatives:\", df['false_negative'].sum())\n",
    "\n",
    "    # Chargebacks by payment method\n",
    "    payment_type = df[df['chargeback_(yes/no)'] == 'Yes']['payment_method'].value_counts()\n",
    "    print(\"Payment method chargeback count:\", payment_type)\n",
    "\n",
    "    # Average fraud score by result type\n",
    "    average_score = df.groupby('result')['fraud_score'].mean()\n",
    "    print(\"Average fraud score by result:\", average_score)\n",
    "\n",
    "    # Which agents had the most chargebacks\n",
    "    agents = df[df['chargeback_(yes/no)'] == 'Yes']['agent_id'].value_counts()\n",
    "    print(\"Agent chargeback count:\", agents)\n",
    "\n",
    "    sns.boxplot(data=df, x='result', y='fraud_score')\n",
    "    plt.title('Fraud Score Distribution by Result')\n",
    "    plt.show()"
   ]
  },
  {
   "cell_type": "code",
   "execution_count": null,
   "metadata": {},
   "outputs": [],
   "source": [
    "if csv_name == \"data-set-2\":\n",
    "\n",
    "    # 1. Mismatched country information\n",
    "    df['mismatched_countries'] = (\n",
    "        (df['issuer_country'] != df['billing_country']) |\n",
    "        (df['issuer_country'] != df['ip_country']) |\n",
    "        (df['billing_country'] != df['ip_country'])\n",
    "    )\n",
    "\n",
    "    # 2. Last-minute booking (1 day or less)\n",
    "    df['last_minute_booking'] = df['booking_days_before_checkin/departure'].astype(float) <= 1\n",
    "\n",
    "    # 3. High value transactions (top 5%)\n",
    "    high_value_threshold = df['amount_usd'].astype(float).quantile(0.95)\n",
    "    df['high_value'] = df['amount_usd'].astype(float) > high_value_threshold\n",
    "\n",
    "    # 4. International one-way flights\n",
    "    df['intl_one_way'] = (\n",
    "        (df['flight_type'] == 'one_way') &\n",
    "        (df['flight_departure_country'] != df['flight_arrival_country'])\n",
    "    )\n",
    "\n",
    "    # 5. Combined fraud risk flag (if 2 or more conditions are met)\n",
    "    df['potential_fraud'] = (\n",
    "        df[['mismatched_countries', 'last_minute_booking', 'high_value', 'intl_one_way']]\n",
    "        .sum(axis=1) > 1\n",
    "    )\n",
    "\n",
    "    # Summary outputs\n",
    "    print(\"Mismatched countries:\", df['mismatched_countries'].sum())\n",
    "    print(\"Last-minute bookings:\", df['last_minute_booking'].sum())\n",
    "    print(\"High-value transactions:\", df['high_value'].sum())\n",
    "    print(\"International one-way flights:\", df['intl_one_way'].sum())\n",
    "    print(\"High-risk transactions (2+ signals):\", df['potential_fraud'].sum())\n"
   ]
  }
 ],
 "metadata": {
  "kernelspec": {
   "display_name": "Python 3",
   "language": "python",
   "name": "python3"
  },
  "language_info": {
   "codemirror_mode": {
    "name": "ipython",
    "version": 3
   },
   "file_extension": ".py",
   "mimetype": "text/x-python",
   "name": "python",
   "nbconvert_exporter": "python",
   "pygments_lexer": "ipython3",
   "version": "3.11.9"
  }
 },
 "nbformat": 4,
 "nbformat_minor": 2
}
